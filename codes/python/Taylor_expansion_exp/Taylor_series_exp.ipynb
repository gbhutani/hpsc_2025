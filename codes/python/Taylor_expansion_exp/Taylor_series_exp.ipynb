{
 "cells": [
  {
   "cell_type": "code",
   "execution_count": 1,
   "id": "3e1674da",
   "metadata": {},
   "outputs": [],
   "source": [
    "import numpy as np\n",
    "import matplotlib.pyplot as plt\n",
    "import timeit"
   ]
  },
  {
   "cell_type": "code",
   "execution_count": 12,
   "id": "5b5805ea",
   "metadata": {},
   "outputs": [],
   "source": [
    "def my_exp(x, terms=100):\n",
    "    result = 0\n",
    "    factorial = 1\n",
    "    for n in range(terms):\n",
    "        if n > 0:\n",
    "            factorial *= n\n",
    "        result += (x ** n) / factorial\n",
    "    return result\n"
   ]
  },
  {
   "cell_type": "code",
   "execution_count": 13,
   "id": "64ae673a",
   "metadata": {},
   "outputs": [],
   "source": [
    "x_values = np.linspace(0, 100, 1000)\n",
    "\n",
    "numpy_exp_values = np.exp(x_values)\n",
    "my_exp_values = np.array([my_exp(x) for x in x_values])\n"
   ]
  },
  {
   "cell_type": "code",
   "execution_count": 23,
   "id": "32edec2e",
   "metadata": {},
   "outputs": [],
   "source": [
    "# %matplotlib qt: To see the plot outside the notebook. Requirement: pip install PyQt5\n",
    "\n",
    "%matplotlib qt\n",
    "plt.plot(x_values, numpy_exp_values, label=\"numpy.exp(x)\", linestyle=\"dashed\")\n",
    "plt.plot(x_values, my_exp_values, label=\"my_exp(x)\")\n",
    "plt.xlabel(\"x\")\n",
    "plt.ylabel(\"exp(x)\")\n",
    "plt.title(\"Comparison of numpy.exp(x) and my_exp(x)\")\n",
    "plt.legend()\n",
    "plt.show()"
   ]
  },
  {
   "cell_type": "code",
   "execution_count": 15,
   "id": "1cc3b1c1",
   "metadata": {},
   "outputs": [
    {
     "name": "stdout",
     "output_type": "stream",
     "text": [
      "Execution time for numpy.exp:\n",
      "947 ns ± 29.5 ns per loop (mean ± std. dev. of 7 runs, 1,000,000 loops each)\n",
      "\n",
      "Execution time for my_exp:\n",
      "49.3 µs ± 387 ns per loop (mean ± std. dev. of 7 runs, 10,000 loops each)\n"
     ]
    }
   ],
   "source": [
    "# Compare execution time\n",
    "x_test = 10  # Test for x=10\n",
    "print(\"Execution time for numpy.exp:\")\n",
    "%timeit np.exp(x_test)\n",
    "\n",
    "print(\"\\nExecution time for my_exp:\")\n",
    "%timeit my_exp(x_test)"
   ]
  },
  {
   "cell_type": "code",
   "execution_count": null,
   "id": "d55b2166",
   "metadata": {},
   "outputs": [],
   "source": []
  }
 ],
 "metadata": {
  "kernelspec": {
   "display_name": "Python 3 (ipykernel)",
   "language": "python",
   "name": "python3"
  },
  "language_info": {
   "codemirror_mode": {
    "name": "ipython",
    "version": 3
   },
   "file_extension": ".py",
   "mimetype": "text/x-python",
   "name": "python",
   "nbconvert_exporter": "python",
   "pygments_lexer": "ipython3",
   "version": "3.11.1"
  }
 },
 "nbformat": 4,
 "nbformat_minor": 5
}
