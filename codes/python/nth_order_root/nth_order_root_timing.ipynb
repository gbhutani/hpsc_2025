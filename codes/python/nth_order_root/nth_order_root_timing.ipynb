{
 "cells": [
  {
   "cell_type": "markdown",
   "id": "18f0b839",
   "metadata": {},
   "source": [
    "# Timing nth_root function for a single input number"
   ]
  },
  {
   "cell_type": "code",
   "execution_count": 4,
   "id": "db5225bd",
   "metadata": {},
   "outputs": [],
   "source": [
    "from nth_order_root import nth_root\n",
    "from numpy import linspace, power"
   ]
  },
  {
   "cell_type": "code",
   "execution_count": 2,
   "id": "43190555",
   "metadata": {},
   "outputs": [
    {
     "name": "stdout",
     "output_type": "stream",
     "text": [
      "iteration 0: s_i = 6.250000000000000, rel_err = 3.75000e-01\n",
      "iteration 1: s_i = 5.125000000000000, rel_err = 1.80000e-01\n",
      "iteration 2: s_i = 5.001524390243903, rel_err = 2.40928e-02\n",
      "iteration 3: s_i = 5.000000232305736, rel_err = 3.04739e-04\n",
      "iteration 4: s_i = 5.000000000000005, rel_err = 4.64611e-08\n",
      "iteration 5: s_i = 5.000000000000000, rel_err = 1.06581e-15\n",
      "correct value: 5.000000000000000, my_estimation : 5.000000000000000\n",
      "\n"
     ]
    },
    {
     "data": {
      "text/plain": [
       "5.0"
      ]
     },
     "execution_count": 2,
     "metadata": {},
     "output_type": "execute_result"
    }
   ],
   "source": [
    "nth_root(n=2, x=25, debug=True)"
   ]
  },
  {
   "cell_type": "code",
   "execution_count": 8,
   "id": "df789354",
   "metadata": {},
   "outputs": [
    {
     "name": "stdout",
     "output_type": "stream",
     "text": [
      "3.19 µs ± 75 ns per loop (mean ± std. dev. of 7 runs, 100,000 loops each)\n"
     ]
    }
   ],
   "source": [
    "timeit nth_root(n=3, x=729)"
   ]
  },
  {
   "cell_type": "code",
   "execution_count": 12,
   "id": "2301f2e6",
   "metadata": {},
   "outputs": [
    {
     "name": "stdout",
     "output_type": "stream",
     "text": [
      "1.2 µs ± 12.5 ns per loop (mean ± std. dev. of 7 runs, 1,000,000 loops each)\n"
     ]
    }
   ],
   "source": [
    "%timeit power(729, 1/3)"
   ]
  },
  {
   "cell_type": "markdown",
   "id": "28937bc7",
   "metadata": {},
   "source": [
    "# Timing for input numbers from array"
   ]
  },
  {
   "cell_type": "code",
   "execution_count": 15,
   "id": "a388b300",
   "metadata": {},
   "outputs": [],
   "source": [
    "x = linspace(0, 1000, 501)"
   ]
  },
  {
   "cell_type": "code",
   "execution_count": 18,
   "id": "5f81d620",
   "metadata": {},
   "outputs": [
    {
     "name": "stdout",
     "output_type": "stream",
     "text": [
      "2.54 ms ± 76.1 µs per loop (mean ± std. dev. of 7 runs, 100 loops each)\n"
     ]
    }
   ],
   "source": [
    "%%timeit\n",
    "for num in x:\n",
    "    nth_root(n=3, x=num)"
   ]
  },
  {
   "cell_type": "code",
   "execution_count": 19,
   "id": "070b692a",
   "metadata": {},
   "outputs": [
    {
     "name": "stdout",
     "output_type": "stream",
     "text": [
      "16.2 µs ± 45.2 ns per loop (mean ± std. dev. of 7 runs, 100,000 loops each)\n"
     ]
    }
   ],
   "source": [
    "%timeit power(x, 1/3)"
   ]
  },
  {
   "cell_type": "code",
   "execution_count": null,
   "id": "2d76ab48",
   "metadata": {},
   "outputs": [],
   "source": []
  }
 ],
 "metadata": {
  "kernelspec": {
   "display_name": "Python 3 (ipykernel)",
   "language": "python",
   "name": "python3"
  },
  "language_info": {
   "codemirror_mode": {
    "name": "ipython",
    "version": 3
   },
   "file_extension": ".py",
   "mimetype": "text/x-python",
   "name": "python",
   "nbconvert_exporter": "python",
   "pygments_lexer": "ipython3",
   "version": "3.11.1"
  }
 },
 "nbformat": 4,
 "nbformat_minor": 5
}
