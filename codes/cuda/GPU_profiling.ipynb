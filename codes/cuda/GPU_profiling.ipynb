{
 "cells": [
  {
   "cell_type": "markdown",
   "id": "5ab895f6-624f-40e3-9ea0-b0e3d9d1d475",
   "metadata": {},
   "source": [
    "# GPU code profiling"
   ]
  },
  {
   "cell_type": "markdown",
   "id": "34e3a66e-d136-417e-bf8b-a25cdc675d35",
   "metadata": {},
   "source": [
    "## Case 1 - normal matrix multiplication with user defined block size"
   ]
  },
  {
   "cell_type": "code",
   "execution_count": null,
   "id": "edc6f756-3c2e-4008-83a7-27062a7baa61",
   "metadata": {},
   "outputs": [],
   "source": [
    "import subprocess\n",
    "import time\n",
    "matrix_width = 1024\n",
    "block_size = 32 # Try also with block_size > 32\n",
    "print(f\"Matrix Width: {matrix_width}, Block Size: {block_size}\")\n",
    "start = time.perf_counter()\n",
    "result = subprocess.run([\"./matrixMul.exe\", str(matrix_width), str(block_size)], capture_output=True, text=True)\n",
    "end = time.perf_counter()\n",
    "elapsed_time_ms = (end - start) * 1000\n",
    "print(f\"{elapsed_time_ms:.2f} ms\")\n",
    "print(\"Program Output:\")\n",
    "print(result.stdout.strip())\n",
    "print(\"=\"*50)"
   ]
  },
  {
   "cell_type": "code",
   "execution_count": null,
   "id": "d692e6eb-b9ac-41f8-8739-9a3a536d649c",
   "metadata": {},
   "outputs": [],
   "source": [
    "import subprocess\n",
    "import time\n",
    "for matrix_width in [128, 256, 512, 1024]:\n",
    "    for block_size in [8, 16, 32]:\n",
    "        print(f\"Matrix Width: {matrix_width}, Block Size: {block_size}\")\n",
    "        for run in range(1, 4):  # Run 3 times\n",
    "            start = time.perf_counter()\n",
    "            result = subprocess.run([\"./matrixMul.exe\", str(matrix_width), str(block_size)], capture_output=True, text=True)\n",
    "            end = time.perf_counter()\n",
    "            elapsed_time_ms = (end - start) * 1000\n",
    "            print(f\"  Run {run}: {elapsed_time_ms:.2f} ms\")\n",
    "            #print(\"Program Output:\")\n",
    "            #print(result.stdout.strip())\n",
    "        print(\"=\"*50)"
   ]
  },
  {
   "cell_type": "code",
   "execution_count": null,
   "id": "8d5ff701-eac5-4c27-b4a2-76bfd425b3c8",
   "metadata": {},
   "outputs": [],
   "source": [
    "import subprocess\n",
    "import time\n",
    "import matplotlib.pyplot as plt\n",
    "\n",
    "matrix_width = 1024\n",
    "block_sizes = [8, 16, 32]\n",
    "runs_per_block = {}\n",
    "\n",
    "# Run profiling and collect timings\n",
    "for block_size in block_sizes:\n",
    "    print(f\"Matrix Width: {matrix_width}, Block Size: {block_size}\")\n",
    "    runtimes = []\n",
    "    for run in range(1, 4):\n",
    "        start = time.perf_counter()\n",
    "        result = subprocess.run(\n",
    "            [\"./matrixMul.exe\", str(matrix_width), str(block_size)],\n",
    "            capture_output=True,\n",
    "            text=True\n",
    "        )\n",
    "        end = time.perf_counter()\n",
    "        elapsed_time_ms = (end - start) * 1000\n",
    "        runtimes.append(elapsed_time_ms)\n",
    "        print(f\"  Run {run}: {elapsed_time_ms:.2f} ms\")\n",
    "    runs_per_block[block_size] = runtimes\n",
    "    print(\"=\" * 50)\n",
    "\n",
    "# Plotting\n",
    "x_vals = []\n",
    "y_vals = []\n",
    "\n",
    "for block_size, times in runs_per_block.items():\n",
    "    for t in times:\n",
    "        x_vals.append(block_size)\n",
    "        y_vals.append(t)\n",
    "\n",
    "plt.figure(figsize=(8, 6))\n",
    "plt.scatter(x_vals, y_vals, color='blue')\n",
    "plt.title(\"Execution Time vs Block Size (Matrix Width = 1024)\")\n",
    "plt.xlabel(\"Block Size\")\n",
    "plt.ylabel(\"Execution Time (ms)\")\n",
    "plt.grid(True)\n",
    "plt.tight_layout()\n",
    "plt.show()\n"
   ]
  },
  {
   "cell_type": "markdown",
   "id": "5f339e04-42c6-4bb6-aba4-5fcd6e8a14c4",
   "metadata": {},
   "source": [
    "## Case 2.1 - normal matrix multiplication with Device Properties"
   ]
  },
  {
   "cell_type": "code",
   "execution_count": 36,
   "id": "f40fa45f-25be-4782-b592-0355e6040353",
   "metadata": {},
   "outputs": [
    {
     "name": "stdout",
     "output_type": "stream",
     "text": [
      "Matrix Width: 4096, Block Size: 32\n",
      "Run 1: 814.69 ms\n",
      "Program Output:\n",
      "==== CUDA Device Properties ====\n",
      "Device Name: NVIDIA GeForce RTX 4050 Laptop GPU\n",
      "Compute Capability: 8.9\n",
      "Clock Rate: 2.37 GHz\n",
      "Total Global Memory: 6.00 GB\n",
      "Shared Memory per Block: 48.00 KB\n",
      "Registers per Block: 65536\n",
      "Warp Size: 32\n",
      "Max Threads per Block: 1024\n",
      "Max Threads Dim: (1024, 1024, 64)\n",
      "Max Grid Size: (2147483647, 65535, 65535)\n",
      "Multiprocessor Count: 20\n",
      "Memory Bus Width: 96 bits\n",
      "Memory Clock Rate: 8.00 GHz\n",
      "L2 Cache Size: 24576 KB\n",
      "=================================\n",
      "Sample output:\n",
      "4096.0 4096.0 4096.0 4096.0 \n",
      "4096.0 4096.0 4096.0 4096.0 \n",
      "4096.0 4096.0 4096.0 4096.0 \n",
      "4096.0 4096.0 4096.0 4096.0\n",
      "^^^^^^^^^^^^^^^^^^^^^^^^^^^^^^^^^^^^^^^^^^^^^^^^^^\n",
      "Run 2: 333.57 ms\n",
      "Program Output:\n",
      "==== CUDA Device Properties ====\n",
      "Device Name: NVIDIA GeForce RTX 4050 Laptop GPU\n",
      "Compute Capability: 8.9\n",
      "Clock Rate: 2.37 GHz\n",
      "Total Global Memory: 6.00 GB\n",
      "Shared Memory per Block: 48.00 KB\n",
      "Registers per Block: 65536\n",
      "Warp Size: 32\n",
      "Max Threads per Block: 1024\n",
      "Max Threads Dim: (1024, 1024, 64)\n",
      "Max Grid Size: (2147483647, 65535, 65535)\n",
      "Multiprocessor Count: 20\n",
      "Memory Bus Width: 96 bits\n",
      "Memory Clock Rate: 8.00 GHz\n",
      "L2 Cache Size: 24576 KB\n",
      "=================================\n",
      "Sample output:\n",
      "4096.0 4096.0 4096.0 4096.0 \n",
      "4096.0 4096.0 4096.0 4096.0 \n",
      "4096.0 4096.0 4096.0 4096.0 \n",
      "4096.0 4096.0 4096.0 4096.0\n",
      "^^^^^^^^^^^^^^^^^^^^^^^^^^^^^^^^^^^^^^^^^^^^^^^^^^\n",
      "Run 3: 354.59 ms\n",
      "Program Output:\n",
      "==== CUDA Device Properties ====\n",
      "Device Name: NVIDIA GeForce RTX 4050 Laptop GPU\n",
      "Compute Capability: 8.9\n",
      "Clock Rate: 2.37 GHz\n",
      "Total Global Memory: 6.00 GB\n",
      "Shared Memory per Block: 48.00 KB\n",
      "Registers per Block: 65536\n",
      "Warp Size: 32\n",
      "Max Threads per Block: 1024\n",
      "Max Threads Dim: (1024, 1024, 64)\n",
      "Max Grid Size: (2147483647, 65535, 65535)\n",
      "Multiprocessor Count: 20\n",
      "Memory Bus Width: 96 bits\n",
      "Memory Clock Rate: 8.00 GHz\n",
      "L2 Cache Size: 24576 KB\n",
      "=================================\n",
      "Sample output:\n",
      "4096.0 4096.0 4096.0 4096.0 \n",
      "4096.0 4096.0 4096.0 4096.0 \n",
      "4096.0 4096.0 4096.0 4096.0 \n",
      "4096.0 4096.0 4096.0 4096.0\n",
      "^^^^^^^^^^^^^^^^^^^^^^^^^^^^^^^^^^^^^^^^^^^^^^^^^^\n"
     ]
    }
   ],
   "source": [
    "import subprocess\n",
    "import time\n",
    "matrix_width =4096\n",
    "block_size = 32 # should fail due to resource constraint\n",
    "print(f\"Matrix Width: {matrix_width}, Block Size: {block_size}\")\n",
    "for run in range(1, 4):  # Run 3 times\n",
    "    start = time.perf_counter()\n",
    "    result = subprocess.run([\"./matrixMulDevProp.exe\", str(matrix_width), str(block_size)], capture_output=True, text=True)\n",
    "    end = time.perf_counter()\n",
    "    elapsed_time_ms = (end - start) * 1000\n",
    "    print(f\"Run {run}: {elapsed_time_ms:.2f} ms\")\n",
    "    print(\"Program Output:\")\n",
    "    print(result.stdout.strip())\n",
    "    print(\"^\"*50)"
   ]
  },
  {
   "cell_type": "markdown",
   "id": "86aa8cdd-a083-458f-bb09-86d50a648d86",
   "metadata": {},
   "source": [
    "## Case 2.2 - Automatically choose Block Size using Device Properties"
   ]
  },
  {
   "cell_type": "code",
   "execution_count": null,
   "id": "c2bae5fc-45dc-4f05-a5c8-3e0a8e2665d9",
   "metadata": {},
   "outputs": [],
   "source": [
    "import subprocess\n",
    "import time\n",
    "matrix_width = 1024\n",
    "print(f\"Matrix Width: {matrix_width}, Block Size: {block_size}\")\n",
    "for run in range(1, 5):  # Run multiple times\n",
    "    start = time.perf_counter()\n",
    "    result = subprocess.run([\"./matrixMulDevPropAuto.exe\", str(matrix_width)], capture_output=True, text=True)\n",
    "    end = time.perf_counter()\n",
    "    elapsed_time_ms = (end - start) * 1000\n",
    "    print(f\"{elapsed_time_ms:.2f} ms\")\n",
    "    print(\"Program Output:\")\n",
    "    print(result.stdout.strip())\n",
    "    print(\"=\"*50)"
   ]
  },
  {
   "cell_type": "markdown",
   "id": "89c686aa-b010-4f78-ab10-3087c6df7eb5",
   "metadata": {},
   "source": [
    "## Case 3 - Tiled matrix multiplication"
   ]
  },
  {
   "cell_type": "code",
   "execution_count": 35,
   "id": "7975dc10-c62e-4398-89d8-5033e6410a7f",
   "metadata": {},
   "outputs": [
    {
     "name": "stdout",
     "output_type": "stream",
     "text": [
      "Matrix Width: 4096, Tile Size: 16\n",
      "1839.96 ms\n",
      "Program Output:\n",
      "Sample output:\n",
      "4096.0 4096.0 4096.0 4096.0 \n",
      "4096.0 4096.0 4096.0 4096.0 \n",
      "4096.0 4096.0 4096.0 4096.0 \n",
      "4096.0 4096.0 4096.0 4096.0\n",
      "==================================================\n",
      "340.01 ms\n",
      "Program Output:\n",
      "Sample output:\n",
      "4096.0 4096.0 4096.0 4096.0 \n",
      "4096.0 4096.0 4096.0 4096.0 \n",
      "4096.0 4096.0 4096.0 4096.0 \n",
      "4096.0 4096.0 4096.0 4096.0\n",
      "==================================================\n",
      "341.81 ms\n",
      "Program Output:\n",
      "Sample output:\n",
      "4096.0 4096.0 4096.0 4096.0 \n",
      "4096.0 4096.0 4096.0 4096.0 \n",
      "4096.0 4096.0 4096.0 4096.0 \n",
      "4096.0 4096.0 4096.0 4096.0\n",
      "==================================================\n",
      "342.19 ms\n",
      "Program Output:\n",
      "Sample output:\n",
      "4096.0 4096.0 4096.0 4096.0 \n",
      "4096.0 4096.0 4096.0 4096.0 \n",
      "4096.0 4096.0 4096.0 4096.0 \n",
      "4096.0 4096.0 4096.0 4096.0\n",
      "==================================================\n"
     ]
    }
   ],
   "source": [
    "import subprocess\n",
    "import time\n",
    "matrix_width = 4096\n",
    "tile_size = 16\n",
    "print(f\"Matrix Width: {matrix_width}, Tile Size: {tile_size}\")\n",
    "for run in range(1, 5):  # Run multiple times\n",
    "    start = time.perf_counter()\n",
    "    result = subprocess.run([\"./matrixMulTiled.exe\", str(matrix_width), str(tile_size)], capture_output=True, text=True)\n",
    "    end = time.perf_counter()\n",
    "    elapsed_time_ms = (end - start) * 1000\n",
    "    print(f\"{elapsed_time_ms:.2f} ms\")\n",
    "    print(\"Program Output:\")\n",
    "    print(result.stdout.strip())\n",
    "    print(\"=\"*50)"
   ]
  },
  {
   "cell_type": "code",
   "execution_count": null,
   "id": "6ac30f83-23c7-4def-bdb9-ec0ba695fe26",
   "metadata": {},
   "outputs": [],
   "source": []
  }
 ],
 "metadata": {
  "kernelspec": {
   "display_name": "Python (cuda)",
   "language": "python",
   "name": "cuda"
  },
  "language_info": {
   "codemirror_mode": {
    "name": "ipython",
    "version": 3
   },
   "file_extension": ".py",
   "mimetype": "text/x-python",
   "name": "python",
   "nbconvert_exporter": "python",
   "pygments_lexer": "ipython3",
   "version": "3.10.16"
  }
 },
 "nbformat": 4,
 "nbformat_minor": 5
}
